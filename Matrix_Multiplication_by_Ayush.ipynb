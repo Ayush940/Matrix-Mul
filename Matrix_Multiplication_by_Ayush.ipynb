{
 "cells": [
  {
   "cell_type": "code",
   "execution_count": 54,
   "metadata": {},
   "outputs": [],
   "source": [
    "import numpy as np"
   ]
  },
  {
   "cell_type": "code",
   "execution_count": 58,
   "metadata": {},
   "outputs": [],
   "source": [
    "## Defining Matrices\n",
    "\n",
    "mat_1 = np.array([[1,2],[3,4]])\n",
    "m= mat_1.shape[0]\n",
    "mat_2 = np.array([[1,2,3],[4,5,6],[7,8,9]])\n"
   ]
  },
  {
   "cell_type": "code",
   "execution_count": 59,
   "metadata": {},
   "outputs": [],
   "source": [
    "## Function for multiplying Matrices\n",
    "def multiply(mat_1,mat_2):\n",
    "    a1 = 0\n",
    "    a2 = 0\n",
    "    a3 = 0\n",
    "    a4 = 0\n",
    "    for ix in range(m):\n",
    "         for jx in range(m):\n",
    "                a1 += mat_1[ix][jx]*mat_2[ix][jx]\n",
    "    for ix in range(m):\n",
    "         for jx in range(m):\n",
    "                a2 += mat_1[ix][jx]*mat_2[ix][jx+1]\n",
    "    for ix in range(m):\n",
    "         for jx in range(m):\n",
    "                a3 += mat_1[ix][jx]*mat_2[ix+1][jx]\n",
    "    for ix in range(m):\n",
    "         for jx in range(m):\n",
    "                a4 += mat_1[ix][jx]*mat_2[ix+1][jx+1]            \n",
    "    mat_new = np.array([[a1,a2],[a3,a4]])\n",
    "    return mat_new"
   ]
  },
  {
   "cell_type": "code",
   "execution_count": 60,
   "metadata": {},
   "outputs": [
    {
     "name": "stdout",
     "output_type": "stream",
     "text": [
      "[[37 47]\n",
      " [67 77]]\n"
     ]
    }
   ],
   "source": [
    "m = multiply(mat_1,mat_2)\n",
    "print m"
   ]
  },
  {
   "cell_type": "code",
   "execution_count": null,
   "metadata": {},
   "outputs": [],
   "source": []
  }
 ],
 "metadata": {
  "kernelspec": {
   "display_name": "Python 2",
   "language": "python",
   "name": "python2"
  },
  "language_info": {
   "codemirror_mode": {
    "name": "ipython",
    "version": 2
   },
   "file_extension": ".py",
   "mimetype": "text/x-python",
   "name": "python",
   "nbconvert_exporter": "python",
   "pygments_lexer": "ipython2",
   "version": "2.7.12"
  }
 },
 "nbformat": 4,
 "nbformat_minor": 2
}
